{
  "cells": [
    {
      "cell_type": "markdown",
      "metadata": {
        "id": "view-in-github",
        "colab_type": "text"
      },
      "source": [
        "<a href=\"https://colab.research.google.com/github/jonathanj2504/Assignment-1/blob/main/Copy_of_CISC_121_Assignment_2_JonathanJ.ipynb\" target=\"_parent\"><img src=\"https://colab.research.google.com/assets/colab-badge.svg\" alt=\"Open In Colab\"/></a>"
      ]
    },
    {
      "cell_type": "markdown",
      "metadata": {
        "id": "MRScbkLTN3Mc"
      },
      "source": [
        "# **CISC 121 - Section 001 – Assignment 2**\n",
        "*Please copy this notebook to your own drive (File -> Save a copy in Drive) and work from there.*"
      ]
    },
    {
      "cell_type": "markdown",
      "metadata": {
        "id": "87bcdc76"
      },
      "source": [
        "## Part 1\n",
        "### Solve all the 3 problems folloowing the template\n",
        "\n",
        "1. **Sum of Two Integers** — <https://leetcode.com/problems/sum-of-two-integers>\n",
        "2. **Convert Date to Binary** — <https://leetcode.com/problems/convert-date-to-binary>\n",
        "3. **Number of 1 Bits** — <https://leetcode.com/problems/number-of-1-bits>"
      ]
    },
    {
      "cell_type": "markdown",
      "metadata": {
        "id": "f960a31d"
      },
      "source": [
        "## Part 2\n",
        "### Solve 2 of the 3 problems from the followings following the given template\n",
        "\n",
        "1. **Reverse Integer** — <https://leetcode.com/problems/reverse-integer>\n",
        "2. **Reverse String** — <https://leetcode.com/problems/reverse-string>\n",
        "3. **Reverse Pairs** — <https://leetcode.com/problems/reverse-pairs>\n",
        "\n",
        "### Note: the problems are ordered by difficulty."
      ]
    },
    {
      "cell_type": "markdown",
      "metadata": {
        "id": "KGKqcY70N3Md"
      },
      "source": [
        "\n",
        "\n",
        "1. Your Name: Jonathan Jacob\n",
        "2. Section: 001\n",
        "3. ID: 20522879\n",
        "4. Github or Colab link of this notebook:\n"
      ]
    },
    {
      "cell_type": "markdown",
      "metadata": {
        "id": "creP6zY2Q96V"
      },
      "source": [
        "\n",
        "\n",
        "---\n",
        "\n"
      ]
    },
    {
      "cell_type": "markdown",
      "metadata": {
        "id": "rAwLuBzFZxf3"
      },
      "source": [
        "#  Problem 1 (DSA)\n",
        "\n",
        "\n"
      ]
    },
    {
      "cell_type": "markdown",
      "metadata": {
        "id": "r9EKMWjKIQP3"
      },
      "source": [
        "## 1. Understanding & Breakdown\n",
        "\n",
        "**AI Level 1** is allowed to understand the concept, but you need to sketch the problem down by yourself (Refer to the Syllabus for more details about AI use levels). **Must Provide AI Disclosures**\n",
        "\n",
        "\n",
        "### **Follow the below instruction according to the corresponding problem type**\n",
        "\n",
        "### **For both Parts (Both DSA & Recursion problems)**\n",
        "\n",
        "#### _Discuss the problem, using the pillars of Computation: Problem Decomposition, Pattern Recognition, Abstraction, and Algortihmic Thinking. For algorithmic thinking explain the inputs/outputs, constraints, and  draw the flowchart using digital or real pen-paper (For the flow chart only). Insert the image below._\n",
        "\n",
        "\n",
        "### **For Part 1 (Basic Data Structures and Algorithms Problems)**\n",
        "\n",
        "- For each, discuss:\n",
        "    - How are you dealing with variable datatypes?\n",
        "    - Which types of operations are being used and what for?\n",
        "    - Which Data collections (structures) are being used, and why? (comapre to others, e.g. lists, dictionaries, sets, tuples, etc.)\n",
        "    \n",
        "- Compare to the other two problems: which ideas generalize? where do they differ?\n",
        "    - Use abstraction and pattern recognition to find similarities\n",
        "    - Use problem decomposition and algortihmic tinking to identify differnces in term so the the solution\n",
        "\n",
        "\n",
        "### **For Part 2 (Recursion Problems)**\n",
        "\n",
        "- For each, discuss:\n",
        "    - What are the subproblems the recusrive function should solve?\n",
        "    - What the base case and recursive step should do?\n",
        "    - How the call stack will organize the recursive calls?\n",
        "    - Whether to use head, tail, parameterized, and/or functional recursion, and why?\n",
        "    - How are solutions to the subproblems to be combined?\n",
        "    \n",
        "- Compare to the other recursive problems  (similarities/differences)\n",
        "- Compare to an iterative solutions (e.g., how would a loop-based version differ?)\n",
        "- What needs to be changed for the recursive solution to become head/tail/parameterized/functional recursion\n",
        "\n",
        "\n",
        "\n",
        "\n",
        "\n",
        "**Your effort is more important than the accuracy for this section**\n",
        "\n",
        "Use the following markdown to provide your answer\n",
        "\n",
        "Since we are not using addition or subtraction to find the sum of integers the next option is using bits. The datatype going to be used is: int. If we use XOR it would give the sum of bits without considering the carry. Then if we use the AND operator and left shift it accounts for the carry. We can loop it till no carry left which means the addition finishes."
      ]
    },
    {
      "cell_type": "markdown",
      "metadata": {
        "id": "aUHzVrY4cTX0"
      },
      "source": [
        "## 2. Peer Review & Draft Code\n",
        "\n",
        "**Review Guidance:**  \n",
        "\n",
        "Visit the **\"Solutions\"** tab on LeetCode (the provided link above) for the selected problem and review at least one top-rated solution. You may also search for relevant discussions or Q&A threads on **Stack Overflow** or other forums to understand how others approached the problem.\n",
        "\n",
        "Then, write your own version based on what you understood. The goal is not to copy but to apply what you learned. Always include links to the resources you reviewed.\n",
        "\n",
        "---\n",
        "\n",
        "Used one of the top solutions on leet code https://leetcode.com/problems/sum-of-two-integers/solutions/84278/a-summary-how-to-use-bit-manipulation-to-solve-problems-easily-and-efficiently/\n"
      ]
    },
    {
      "cell_type": "code",
      "execution_count": null,
      "metadata": {
        "id": "NPk65D2zciQV"
      },
      "outputs": [],
      "source": [
        "# Your draft code here (does not need to be fully correct)\n",
        "\n",
        "class Solution:\n",
        "    def getSum(a: int, b: int):\n",
        "        while b != 0:\n",
        "            sum = a ^ b          # sum without carry\n",
        "            carry = (a & b) << 1  # carry, shifted left\n",
        "            a, b = sum, carry\n",
        "        return a"
      ]
    },
    {
      "cell_type": "markdown",
      "metadata": {
        "id": "8R0ItLfmRKxp"
      },
      "source": [
        "---\n"
      ]
    },
    {
      "cell_type": "markdown",
      "metadata": {
        "id": "Om2fMRWLceyo"
      },
      "source": [
        "## 3. Final Correct Code\n",
        "\n",
        "_This version must pass all required test cases and handle edge cases correctly. Please provide screenshots from Leetcode_\n",
        "\n",
        "At this stage, you may:\n",
        "- Review solutions using AI tools (e.g., ChatGPT, GitHub Copilot) to add ***comments*** and error handeling, refine, improve, and if there are any, fix errors.\n",
        "    -   Tip: Use PROMPT and CoT methods\n",
        "- Refactor your draft to ensure accuracy, completeness, follow the Code Review checklist.\n",
        "\n",
        "### Don't forget to add comments!\n",
        "\n",
        " **AI Level 4 is allowed**, but you **must include a disclaimer** that clearly states what tools you used, how you used them, and for which part of the code.\n",
        "\n",
        "--------------"
      ]
    },
    {
      "cell_type": "code",
      "execution_count": null,
      "metadata": {
        "id": "CukQ_t3xcuDV"
      },
      "outputs": [],
      "source": [
        "# Final working solution\n",
        "# [AI Disclaimer example: Used ChatGPT with prompt “How to handle recursion base case” only for concept]\n",
        "\n",
        "class Solution:\n",
        "    def getSum(self, a: int, b: int):\n",
        "        MAX = 0x7FFFFFFF  # Accounting for negative numbers by now creating a 32-bit environment\n",
        "        mask = 0xFFFFFFFF\n",
        "        while b != 0:\n",
        "            sum = a ^ b          # sum without carry\n",
        "            carry = (a & b) << 1  # carry, shifted left\n",
        "            a, b = sum, carry\n",
        "        return a if a <= MAX else ~(a ^ mask) #Used AI Level 4 to fix the return statement"
      ]
    },
    {
      "cell_type": "markdown",
      "metadata": {
        "id": "n-a6rKrlUyQP"
      },
      "source": [
        "Add the screenshot of output for all the test cases from your working solutions.\n",
        "\n",
        "![image.png](data:image/png;base64,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)"
      ]
    },
    {
      "cell_type": "markdown",
      "metadata": {
        "id": "CSVCLsPgROHs"
      },
      "source": [
        "---"
      ]
    },
    {
      "cell_type": "markdown",
      "metadata": {
        "id": "fJrDhzvMcxVN"
      },
      "source": [
        "## 4. Review & Fixes\n",
        "\n",
        "_What did you improve, optimize from your draft? 2 fixes with your comments._\n",
        "\n",
        "If there is no imporvments possible, please describe how the final version meets all the Code Review Checklist items\n",
        "\n",
        "-------\n",
        "\n"
      ]
    },
    {
      "cell_type": "code",
      "execution_count": null,
      "metadata": {
        "id": "tzEAjBgfMtod"
      },
      "outputs": [],
      "source": [
        "# Fix 1: Added self within the parameter\n",
        "\n",
        "class Solution:\n",
        "    def getSum(self, a: int, b: int):\n",
        "        MAX = 0x7FFFFFFF  # Accounting for negative numbers by now creating a 32-bit environment\n",
        "        mask = 0xFFFFFFFF\n",
        "        while b != 0:\n",
        "            sum = a ^ b          # sum without carry\n",
        "            carry = (a & b) << 1  # carry, shifted left\n",
        "            a, b = sum, carry\n",
        "        return a if a <= MAX else ~(a ^ mask)\n"
      ]
    },
    {
      "cell_type": "code",
      "execution_count": null,
      "metadata": {
        "id": "ElfXHAqFMzQT"
      },
      "outputs": [],
      "source": [
        "# Fix 2: Used AI Level 4 to fix return statement\n",
        "\n",
        "class Solution:\n",
        "    def getSum(self, a: int, b: int):\n",
        "        MAX = 0x7FFFFFFF  # Accounting for negative numbers by now creating a 32-bit environment\n",
        "        mask = 0xFFFFFFFF\n",
        "        while b != 0:\n",
        "            sum = a ^ b          # sum without carry\n",
        "            carry = (a & b) << 1  # carry, shifted left\n",
        "            a, b = sum, carry\n",
        "        return a if a <= MAX else ~(a ^ mask)\n"
      ]
    },
    {
      "cell_type": "markdown",
      "metadata": {
        "id": "9RoAwjXsRPvQ"
      },
      "source": [
        "---"
      ]
    },
    {
      "cell_type": "markdown",
      "metadata": {
        "id": "QfK-i2ITc4MU"
      },
      "source": [
        "\n",
        "## 5. Reflection on Your Contribution\n",
        "_Where did AI or Other's code helped or fail to help? What specific logic or debugging did you contribute yourself?_\n",
        "\n",
        "## Example\n",
        "1. I used ChatGPT (Level 4) to help identify an edge case where my draft code failed when the input string started with a closing bracket. I also used ChatGPT to help structure the final loop and mapping dictionary, but verified all logic myself by tracing the code.\n",
        "\n",
        "2.  I used ChatGPT to help write the loop. But the code had an indentation error after the `if` block, which caused it to fail. I fixed the spacing and made sure the code runs correctly.\n",
        "\n",
        "3. I used opensource code from Github. I found and fixed a logic bug where they used if s[i] == '(' or ')', which always returned True. I corrected it to properly check both conditions.\n"
      ]
    },
    {
      "cell_type": "markdown",
      "metadata": {
        "id": "AxxCiuXlBfSj"
      },
      "source": [
        "## Your answer:\n",
        "\n",
        "------"
      ]
    },
    {
      "cell_type": "markdown",
      "metadata": {
        "id": "xJk7l_CmRSQ9"
      },
      "source": [
        "-> Used chatgpt Level 4 to fix the return statement and to check if there were errors in my code. I also realized that to account for the negative numbers I needed to create a 32 bit environment for which I used the leetcode solutions.\n",
        "\n"
      ]
    },
    {
      "cell_type": "markdown",
      "metadata": {
        "id": "w2X7eha_N3Mg"
      },
      "source": [
        "-----------"
      ]
    },
    {
      "cell_type": "markdown",
      "metadata": {
        "id": "USwRg1coc-BO"
      },
      "source": [
        "#  Repeat this template for Problems 2–5\n",
        "You may copy-paste the above section 4 more times or duplicate cells in your notebook environment.\n",
        "\n",
        "Remember:\n",
        "Proper attribution  \n",
        "No copy-pasting from AI or others\n",
        "\n",
        "--------\n",
        "\n",
        "\n"
      ]
    },
    {
      "cell_type": "markdown",
      "source": [
        "# Problems 2 (DSA)\n",
        "----------"
      ],
      "metadata": {
        "id": "RVrlqim8SoDS"
      }
    },
    {
      "cell_type": "markdown",
      "metadata": {
        "id": "F_tWAA_e7v3Q"
      },
      "source": [
        "## 1. Understanding & Breakdown\n",
        "\n",
        "**AI Level 1** is allowed to understand the concept, but you need to sketch the problem down by yourself (Refer to the Syllabus for more details about AI use levels). **Must Provide AI Disclosures**\n",
        "\n",
        "\n",
        "### **Follow the below instruction according to the corresponding problem type**\n",
        "\n",
        "### **For both Parts (Both DSA & Recursion problems)**\n",
        "\n",
        "#### _Discuss the problem, using the pillars of Computation: Problem Decomposition, Pattern Recognition, Abstraction, and Algortihmic Thinking. For algorithmic thinking explain the inputs/outputs, constraints, and  draw the flowchart using digital or real pen-paper (For the flow chart only). Insert the image below._\n",
        "\n",
        "\n",
        "### **For Part 1 (Basic Data Structures and Algorithms Problems)**\n",
        "\n",
        "- For each, discuss:\n",
        "    - How are you dealing with variable datatypes?\n",
        "    - Which types of operations are being used and what for?\n",
        "    - Which Data collections (structures) are being used, and why? (comapre to others, e.g. lists, dictionaries, sets, tuples, etc.)\n",
        "    \n",
        "- Compare to the other two problems: which ideas generalize? where do they differ?\n",
        "    - Use abstraction and pattern recognition to find similarities\n",
        "    - Use problem decomposition and algortihmic tinking to identify differnces in term so the the solution\n",
        "\n",
        "\n",
        "### **For Part 2 (Recursion Problems)**\n",
        "\n",
        "- For each, discuss:\n",
        "    - What are the subproblems the recusrive function should solve?\n",
        "    - What the base case and recursive step should do?\n",
        "    - How the call stack will organize the recursive calls?\n",
        "    - Whether to use head, tail, parameterized, and/or functional recursion, and why?\n",
        "    - How are solutions to the subproblems to be combined?\n",
        "    \n",
        "- Compare to the other recursive problems  (similarities/differences)\n",
        "- Compare to an iterative solutions (e.g., how would a loop-based version differ?)\n",
        "- What needs to be changed for the recursive solution to become head/tail/parameterized/functional recursion\n",
        "\n",
        "\n",
        "\n",
        "\n",
        "\n",
        "**Your effort is more important than the accuracy for this section**\n",
        "\n",
        "Use the following markdown to provide your answer\n",
        "\n",
        "Problem decomposition: 1. Get the year, month and day from\n",
        "                       2. Convert each one into an integer\n",
        "                       3. Convert the values to its binary representation\n",
        "                       4. Combine it to make the format given\n",
        "\n",
        "Pattern Recognition: Binary transformation is applied three times to the year, month and day.\n",
        "\n",
        "Abstraction: Ignoring detaiols such as leap years and only accounting for details such as the string, string conversion and format of output.\n",
        "\n",
        "Algorithmic thinking: input should be given in the format year-month-day and output should be year_binary-month_binary-day_binary."
      ]
    },
    {
      "cell_type": "markdown",
      "metadata": {
        "id": "1Gf9_LtoweQI"
      },
      "source": [
        "## 2. Peer Review & Draft Code\n",
        "\n",
        "**Review Guidance:**  \n",
        "\n",
        "Visit the **\"Solutions\"** tab on LeetCode (the provided link above) for the selected problem and review at least one top-rated solution. You may also search for relevant discussions or Q&A threads on **Stack Overflow** or other forums to understand how others approached the problem.\n",
        "\n",
        "Then, write your own version based on what you understood. The goal is not to copy but to apply what you learned. Always include links to the resources you reviewed.\n",
        "\n",
        "---\n",
        "\n",
        "https://leetcode.com/problems/convert-date-to-binary/\n",
        "Solution: I went over one of the top solutions and learned about bin which is a function that returns the string in binary but starts the numbers with 0b which means we should slice and start it only from index 2."
      ]
    },
    {
      "cell_type": "code",
      "execution_count": null,
      "metadata": {
        "id": "ON5IFwd1wiCv"
      },
      "outputs": [],
      "source": [
        "#Used AI Level 4 to check for errors and add comments\n",
        "def convertDateToBinary(date):\n",
        "\n",
        "  parts = date.split('-')\n",
        "  binary_date = \"\"\n",
        "\n",
        "  for i in range(len(parts)):\n",
        "    binary_part = bin(int(parts[i]))[2:]\n",
        "    binary_date += binary_part\n",
        "\n",
        "    if i != len(parts) - 1:\n",
        "      binary_date += '-'\n",
        "  return binary_date"
      ]
    },
    {
      "cell_type": "markdown",
      "source": [
        "---------------"
      ],
      "metadata": {
        "id": "3KHIrOkFTScw"
      }
    },
    {
      "cell_type": "markdown",
      "metadata": {
        "id": "s9cEO_UyFshj"
      },
      "source": [
        "## 3. Final Correct Code\n",
        "\n",
        "_This version must pass all required test cases and handle edge cases correctly. Please provide screenshots from Leetcode_\n",
        "\n",
        "At this stage, you may:\n",
        "- Review solutions using AI tools (e.g., ChatGPT, GitHub Copilot) to add ***comments*** and error handeling, refine, improve, and if there are any, fix errors.\n",
        "    -   Tip: Use PROMPT and CoT methods\n",
        "- Refactor your draft to ensure accuracy, completeness, follow the Code Review checklist.\n",
        "\n",
        "### Don't forget to add comments!\n",
        "\n",
        " **AI Level 4 is allowed**, but you **must include a disclaimer** that clearly states what tools you used, how you used them, and for which part of the code.\n",
        "\n",
        "--------------"
      ]
    },
    {
      "cell_type": "code",
      "execution_count": null,
      "metadata": {
        "id": "5vXmIPBrFwlo"
      },
      "outputs": [],
      "source": [
        "#Used AI Level 4 to check for errors and add comments\n",
        "def convertDateToBinary(date):\n",
        "\n",
        "  # Split the input date string by '-' into [YYYY, MM, DD]\n",
        "  parts = date.split('-')\n",
        "\n",
        "  # Initialize an empty string to store the binary result\n",
        "  binary_date = \"\"\n",
        "\n",
        "  # Loop through each part (year, month, day)\n",
        "  for i in range(len(parts)):\n",
        "    # Convert each part to an integer, then to binary (strip '0b' prefix)\n",
        "    binary_part = bin(int(parts[i]))[2:]\n",
        "\n",
        "    # Append the binary part to the result string\n",
        "    binary_date += binary_part\n",
        "\n",
        "    # Add a '-' between parts except after the last one\n",
        "    if i != len(parts) - 1:\n",
        "      binary_date += '-'\n",
        "\n",
        "  # Return the final binary date string\n",
        "  return binary_date"
      ]
    },
    {
      "cell_type": "markdown",
      "metadata": {
        "id": "2IWY_WLaO674"
      },
      "source": [
        "![image.png](data:image/png;base64,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)\n",
        "---"
      ]
    },
    {
      "cell_type": "markdown",
      "metadata": {
        "id": "nPAbKkqIJVMa"
      },
      "source": [
        "## 4. Review & Fixes\n",
        "\n",
        "_What did you improve, optimize from your draft? 2 fixes with your comments._\n",
        "\n",
        "If there is no imporvments possible, please describe how the final version meets all the Code Review Checklist items\n",
        "\n",
        "-------\n"
      ]
    },
    {
      "cell_type": "code",
      "execution_count": null,
      "metadata": {
        "id": "g4znk0K4PpDS"
      },
      "outputs": [],
      "source": [
        "# Fix 1: Did not need str within parameter\n",
        "\n",
        "def convertDateToBinary(date):\n",
        "\n",
        "  # Split the input date string by '-' into [YYYY, MM, DD]\n",
        "  parts = date.split('-')\n",
        "\n",
        "  # Initialize an empty string to store the binary result\n",
        "  binary_date = \"\"\n",
        "\n",
        "  # Loop through each part (year, month, day)\n",
        "  for i in range(len(parts)):\n",
        "    # Convert each part to an integer, then to binary (strip '0b' prefix)\n",
        "    binary_part = bin(int(parts[i]))[2:]\n",
        "\n",
        "    # Append the binary part to the result string\n",
        "    binary_date += binary_part\n",
        "\n",
        "    # Add a '-' between parts except after the last one\n",
        "    if i != len(parts) - 1:\n",
        "      binary_date += '-'\n",
        "\n",
        "  # Return the final binary date string\n",
        "  return binary_date\n"
      ]
    },
    {
      "cell_type": "markdown",
      "metadata": {
        "id": "UgcfQMLBk1zN"
      },
      "source": [
        "\n",
        "## 5. Reflection on Your Contribution\n",
        "_Where did AI or Other's code helped or fail to help? What specific logic or debugging did you contribute yourself?_\n",
        "\n",
        "## Example\n",
        "1. I used ChatGPT (Level 4) to help identify an edge case where my draft code failed when the input string started with a closing bracket. I also used ChatGPT to help structure the final loop and mapping dictionary, but verified all logic myself by tracing the code.\n",
        "\n",
        "2.  I used ChatGPT to help write the loop. But the code had an indentation error after the `if` block, which caused it to fail. I fixed the spacing and made sure the code runs correctly.\n",
        "\n",
        "3. I used opensource code from Github. I found and fixed a logic bug where they used if s[i] == '(' or ')', which always returned True. I corrected it to properly check both conditions.\n"
      ]
    },
    {
      "cell_type": "markdown",
      "metadata": {
        "id": "61lr3AxXk5BX"
      },
      "source": [
        "-> Used chatgpt Level 4 to check for errors and add comments.\n"
      ]
    },
    {
      "cell_type": "markdown",
      "source": [
        "# Problems 3 (DSA)\n",
        "\n",
        "------"
      ],
      "metadata": {
        "id": "CW2cb3O7S8Pn"
      }
    },
    {
      "cell_type": "markdown",
      "metadata": {
        "id": "kmQgfblIlEUE"
      },
      "source": [
        "## 1. Understanding & Breakdown\n",
        "\n",
        "**AI Level 1** is allowed to understand the concept, but you need to sketch the problem down by yourself (Refer to the Syllabus for more details about AI use levels). **Must Provide AI Disclosures**\n",
        "\n",
        "\n",
        "### **Follow the below instruction according to the corresponding problem type**\n",
        "\n",
        "### **For both Parts (Both DSA & Recursion problems)**\n",
        "\n",
        "#### _Discuss the problem, using the pillars of Computation: Problem Decomposition, Pattern Recognition, Abstraction, and Algortihmic Thinking. For algorithmic thinking explain the inputs/outputs, constraints, and  draw the flowchart using digital or real pen-paper (For the flow chart only). Insert the image below._\n",
        "\n",
        "\n",
        "### **For Part 1 (Basic Data Structures and Algorithms Problems)**\n",
        "\n",
        "- For each, discuss:\n",
        "    - How are you dealing with variable datatypes?\n",
        "    - Which types of operations are being used and what for?\n",
        "    - Which Data collections (structures) are being used, and why? (comapre to others, e.g. lists, dictionaries, sets, tuples, etc.)\n",
        "    \n",
        "- Compare to the other two problems: which ideas generalize? where do they differ?\n",
        "    - Use abstraction and pattern recognition to find similarities\n",
        "    - Use problem decomposition and algortihmic tinking to identify differnces in term so the the solution\n",
        "\n",
        "\n",
        "### **For Part 2 (Recursion Problems)**\n",
        "\n",
        "- For each, discuss:\n",
        "    - What are the subproblems the recusrive function should solve?\n",
        "    - What the base case and recursive step should do?\n",
        "    - How the call stack will organize the recursive calls?\n",
        "    - Whether to use head, tail, parameterized, and/or functional recursion, and why?\n",
        "    - How are solutions to the subproblems to be combined?\n",
        "    \n",
        "- Compare to the other recursive problems  (similarities/differences)\n",
        "- Compare to an iterative solutions (e.g., how would a loop-based version differ?)\n",
        "- What needs to be changed for the recursive solution to become head/tail/parameterized/functional recursion\n",
        "\n",
        "\n",
        "\n",
        "\n",
        "\n",
        "**Your effort is more important than the accuracy for this section**\n",
        "\n",
        "Use the following markdown to provide your answer\n",
        "\n",
        "Understand that the problem is asking for how many set bits are there in an integer converted to binary. The only constraint is the fact that it should be between 32 bits which means no negative numbers."
      ]
    },
    {
      "cell_type": "markdown",
      "metadata": {
        "id": "phVQuhPTnUL6"
      },
      "source": [
        "## 2. Peer Review & Draft Code\n",
        "\n",
        "**Review Guidance:**  \n",
        "\n",
        "Visit the **\"Solutions\"** tab on LeetCode (the provided link above) for the selected problem and review at least one top-rated solution. You may also search for relevant discussions or Q&A threads on **Stack Overflow** or other forums to understand how others approached the problem.\n",
        "\n",
        "Then, write your own version based on what you understood. The goal is not to copy but to apply what you learned. Always include links to the resources you reviewed.\n",
        "\n",
        "---\n",
        "\n",
        "https://leetcode.com/problems/number-of-1-bits/solutions/6750171/video-use-bitwise-and-1-1/\n",
        "Solution: I went over the top solution and learned that by using a loop you can shift through each bit one at a time.\n"
      ]
    },
    {
      "cell_type": "code",
      "execution_count": null,
      "metadata": {
        "id": "WKlWW6h2oAxE"
      },
      "outputs": [],
      "source": [
        "def bit_one(n: int):\n",
        "  res = 0\n",
        "  for i in range(32):\n",
        "    if (n >> i) & 1:\n",
        "      res += 1\n",
        "  return res"
      ]
    },
    {
      "cell_type": "markdown",
      "metadata": {
        "id": "M-NxJ2cboT6O"
      },
      "source": [
        "## 3. Final Correct Code\n",
        "\n",
        "_This version must pass all required test cases and handle edge cases correctly. Please provide screenshots from Leetcode_\n",
        "\n",
        "At this stage, you may:\n",
        "- Review solutions using AI tools (e.g., ChatGPT, GitHub Copilot) to add ***comments*** and error handeling, refine, improve, and if there are any, fix errors.\n",
        "    -   Tip: Use PROMPT and CoT methods\n",
        "- Refactor your draft to ensure accuracy, completeness, follow the Code Review checklist.\n",
        "\n",
        "### Don't forget to add comments!\n",
        "\n",
        " **AI Level 4 is allowed**, but you **must include a disclaimer** that clearly states what tools you used, how you used them, and for which part of the code.\n",
        "\n",
        "--------------"
      ]
    },
    {
      "cell_type": "code",
      "execution_count": null,
      "metadata": {
        "id": "8vZX6tvSo1WS"
      },
      "outputs": [],
      "source": [
        "def bit_one(n: int):\n",
        "  res = 0  # Initialize count of 1 bits\n",
        "\n",
        "  # Convert n to 32-bit unsigned integer (handles negatives correctly)\n",
        "  n &= 0xFFFFFFFF\n",
        "\n",
        "  # Check each bit position (0 to 31)\n",
        "  for i in range(32):\n",
        "    # Right shift by i and check if the least significant bit is 1\n",
        "    if (n >> i) & 1:\n",
        "      res += 1  # Increment counter if the bit is set\n",
        "\n",
        "  return res"
      ]
    },
    {
      "cell_type": "markdown",
      "source": [
        "![image.png](data:image/png;base64,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)\n",
        "![image.png](data:image/png;base64,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)\n",
        "![image.png](data:image/png;base64,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)\n",
        "------"
      ],
      "metadata": {
        "id": "P0JAI-C0ENNb"
      }
    },
    {
      "cell_type": "markdown",
      "metadata": {
        "id": "-pG1qxJ_pwuS"
      },
      "source": [
        "## 4. Review & Fixes\n",
        "\n",
        "_What did you improve, optimize from your draft? 2 fixes with your comments._\n",
        "\n",
        "If there is no imporvments possible, please describe how the final version meets all the Code Review Checklist items\n",
        "\n",
        "-------\n"
      ]
    },
    {
      "cell_type": "code",
      "execution_count": null,
      "metadata": {
        "id": "pdwpBqZbpzsm"
      },
      "outputs": [],
      "source": [
        "# Fix 1: Added n &= 0xFFFFFFFF to account for negative numbers.\n",
        "\n",
        "def bit_one(n: int):\n",
        "  res = 0  # Initialize count of 1 bits\n",
        "\n",
        "  # Convert n to 32-bit unsigned integer (handles negatives correctly)\n",
        "  n &= 0xFFFFFFFF\n",
        "\n",
        "  # Check each bit position (0 to 31)\n",
        "  for i in range(32):\n",
        "    # Right shift by i and check if the least significant bit is 1\n",
        "    if (n >> i) & 1:\n",
        "      res += 1  # Increment counter if the bit is set\n",
        "\n",
        "  return res\n"
      ]
    },
    {
      "cell_type": "markdown",
      "metadata": {
        "id": "lN-lXKUJw5GC"
      },
      "source": [
        "\n",
        "## 5. Reflection on Your Contribution\n",
        "_Where did AI or Other's code helped or fail to help? What specific logic or debugging did you contribute yourself?_\n",
        "\n",
        "## Example\n",
        "1. I used ChatGPT (Level 4) to help identify an edge case where my draft code failed when the input string started with a closing bracket. I also used ChatGPT to help structure the final loop and mapping dictionary, but verified all logic myself by tracing the code.\n",
        "\n",
        "2.  I used ChatGPT to help write the loop. But the code had an indentation error after the `if` block, which caused it to fail. I fixed the spacing and made sure the code runs correctly.\n",
        "\n",
        "3. I used opensource code from Github. I found and fixed a logic bug where they used if s[i] == '(' or ')', which always returned True. I corrected it to properly check both conditions.\n"
      ]
    },
    {
      "cell_type": "markdown",
      "source": [
        "---> I used chatgpt Level 4 to add comments and fix my errors such as accounting for negative numbers.\n",
        "\n"
      ],
      "metadata": {
        "id": "eTxihTQ1TXwn"
      }
    },
    {
      "cell_type": "markdown",
      "source": [
        "------"
      ],
      "metadata": {
        "id": "rO2GcqUdTY9T"
      }
    },
    {
      "cell_type": "markdown",
      "source": [
        "# Problems 4 (Recursion)\n",
        "--------"
      ],
      "metadata": {
        "id": "7tQQGx41S-Le"
      }
    },
    {
      "cell_type": "markdown",
      "metadata": {
        "id": "J-aumIss4-Bc"
      },
      "source": [
        "## 1. Understanding & Breakdown\n",
        "\n",
        "**AI Level 1** is allowed to understand the concept, but you need to sketch the problem down by yourself (Refer to the Syllabus for more details about AI use levels). **Must Provide AI Disclosures**\n",
        "\n",
        "\n",
        "### **Follow the below instruction according to the corresponding problem type**\n",
        "\n",
        "### **For both Parts (Both DSA & Recursion problems)**\n",
        "\n",
        "#### _Discuss the problem, using the pillars of Computation: Problem Decomposition, Pattern Recognition, Abstraction, and Algortihmic Thinking. For algorithmic thinking explain the inputs/outputs, constraints, and  draw the flowchart using digital or real pen-paper (For the flow chart only). Insert the image below._\n",
        "\n",
        "\n",
        "### **For Part 1 (Basic Data Structures and Algorithms Problems)**\n",
        "\n",
        "- For each, discuss:\n",
        "    - How are you dealing with variable datatypes?\n",
        "    - Which types of operations are being used and what for?\n",
        "    - Which Data collections (structures) are being used, and why? (comapre to others, e.g. lists, dictionaries, sets, tuples, etc.)\n",
        "    \n",
        "- Compare to the other two problems: which ideas generalize? where do they differ?\n",
        "    - Use abstraction and pattern recognition to find similarities\n",
        "    - Use problem decomposition and algortihmic tinking to identify differnces in term so the the solution\n",
        "\n",
        "\n",
        "### **For Part 2 (Recursion Problems)**\n",
        "\n",
        "- For each, discuss:\n",
        "    - What are the subproblems the recusrive function should solve?\n",
        "    - What the base case and recursive step should do?\n",
        "    - How the call stack will organize the recursive calls?\n",
        "    - Whether to use head, tail, parameterized, and/or functional recursion, and why?\n",
        "    - How are solutions to the subproblems to be combined?\n",
        "    \n",
        "- Compare to the other recursive problems  (similarities/differences)\n",
        "- Compare to an iterative solutions (e.g., how would a loop-based version differ?)\n",
        "- What needs to be changed for the recursive solution to become head/tail/parameterized/functional recursion\n",
        "\n",
        "\n",
        "\n",
        "\n",
        "\n",
        "**Your effort is more important than the accuracy for this section**\n",
        "\n",
        "Use the following markdown to provide your answer\n",
        "\n",
        "If we break it down all we need to do is read the input of s, store reversed string in a variable, and basically pop a character to the end. Each call should take the first character then recurses and each time adds the first saved character."
      ]
    },
    {
      "cell_type": "markdown",
      "metadata": {
        "id": "HxRQ_dGw_AvC"
      },
      "source": [
        "## 2. Peer Review & Draft Code\n",
        "\n",
        "**Review Guidance:**  \n",
        "\n",
        "Visit the **\"Solutions\"** tab on LeetCode (the provided link above) for the selected problem and review at least one top-rated solution. You may also search for relevant discussions or Q&A threads on **Stack Overflow** or other forums to understand how others approached the problem.\n",
        "\n",
        "Then, write your own version based on what you understood. The goal is not to copy but to apply what you learned. Always include links to the resources you reviewed.\n",
        "\n",
        "---\n",
        "\n",
        "https://leetcode.com/problems/reverse-string/solutions/7158433/clear-simple-beginner-friendly-100-efficient-easily-explained/\n",
        "After looking at the solution I found a better way to solve this problem. I learned that we could just swap the characters."
      ]
    },
    {
      "cell_type": "code",
      "execution_count": null,
      "metadata": {
        "id": "8mRYH17__Di_"
      },
      "outputs": [],
      "source": [
        "def revString(s: List[str]):\n",
        "  left = 1\n",
        "  right = len(s) - 1\n",
        "\n",
        "  while left < right:\n",
        "    s[left], s[right] = s[right], s[left]\n",
        "    left += 1\n",
        "    right -= 1"
      ]
    },
    {
      "cell_type": "markdown",
      "metadata": {
        "id": "DqkJDkWoDsmt"
      },
      "source": [
        "## 3. Final Correct Code\n",
        "\n",
        "_This version must pass all required test cases and handle edge cases correctly. Please provide screenshots from Leetcode_\n",
        "\n",
        "At this stage, you may:\n",
        "- Review solutions using AI tools (e.g., ChatGPT, GitHub Copilot) to add ***comments*** and error handeling, refine, improve, and if there are any, fix errors.\n",
        "    -   Tip: Use PROMPT and CoT methods\n",
        "- Refactor your draft to ensure accuracy, completeness, follow the Code Review checklist.\n",
        "\n",
        "### Don't forget to add comments!\n",
        "\n",
        " **AI Level 4 is allowed**, but you **must include a disclaimer** that clearly states what tools you used, how you used them, and for which part of the code.\n",
        "\n",
        "--------------"
      ]
    },
    {
      "cell_type": "code",
      "execution_count": null,
      "metadata": {
        "id": "95JV60z1Dvdg"
      },
      "outputs": [],
      "source": [
        "def revString(self, s: List[str]):\n",
        "  # Initialize two pointers: one at the start, one at the end\n",
        "  left = 0\n",
        "  right = len(s) - 1\n",
        "\n",
        "  # Swap characters while the pointers haven't crossed\n",
        "  while left < right:\n",
        "    # Swap elements at 'left' and 'right'\n",
        "    s[left], s[right] = s[right], s[left]\n",
        "\n",
        "    # Move both pointers towards the center\n",
        "    left += 1\n",
        "    right -= 1"
      ]
    },
    {
      "cell_type": "markdown",
      "source": [
        "![image.png](data:image/png;base64,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)\n",
        "------"
      ],
      "metadata": {
        "id": "xq2O_XHv4b9P"
      }
    },
    {
      "cell_type": "markdown",
      "metadata": {
        "id": "fv6moft2Dhnj"
      },
      "source": [
        "## 4. Review & Fixes\n",
        "\n",
        "_What did you improve, optimize from your draft? 2 fixes with your comments._\n",
        "\n",
        "If there is no imporvments possible, please describe how the final version meets all the Code Review Checklist items\n",
        "\n",
        "-------\n"
      ]
    },
    {
      "cell_type": "code",
      "execution_count": null,
      "metadata": {
        "id": "P9NaHuB1ht1M"
      },
      "outputs": [],
      "source": [
        "#Fix 1: Added self to the parameter\n",
        "def revString(self, s: List[str]):\n",
        "  # Initialize two pointers: one at the start, one at the end\n",
        "  left = 0\n",
        "  right = len(s) - 1\n",
        "\n",
        "  # Swap characters while the pointers haven't crossed\n",
        "  while left < right:\n",
        "    # Swap elements at 'left' and 'right'\n",
        "    s[left], s[right] = s[right], s[left]\n",
        "\n",
        "    # Move both pointers towards the center\n",
        "    left += 1\n",
        "    right -= 1\n"
      ]
    },
    {
      "cell_type": "markdown",
      "metadata": {
        "id": "CeaoGxP8m_l3"
      },
      "source": [
        "\n",
        "## 5. Reflection on Your Contribution\n",
        "_Where did AI or Other's code helped or fail to help? What specific logic or debugging did you contribute yourself?_\n",
        "\n",
        "## Example\n",
        "1. I used ChatGPT (Level 4) to help identify an edge case where my draft code failed when the input string started with a closing bracket. I also used ChatGPT to help structure the final loop and mapping dictionary, but verified all logic myself by tracing the code.\n",
        "\n",
        "2.  I used ChatGPT to help write the loop. But the code had an indentation error after the `if` block, which caused it to fail. I fixed the spacing and made sure the code runs correctly.\n",
        "\n",
        "3. I used opensource code from Github. I found and fixed a logic bug where they used if s[i] == '(' or ')', which always returned True. I corrected it to properly check both conditions.\n"
      ]
    },
    {
      "cell_type": "markdown",
      "source": [
        "---> I used chatgpt level 4 to find errors if there were any and added self to the parameter and used it to add comments."
      ],
      "metadata": {
        "id": "0dJMmBiUS_ol"
      }
    },
    {
      "cell_type": "markdown",
      "source": [
        "------"
      ],
      "metadata": {
        "id": "oiP92F44TffW"
      }
    },
    {
      "cell_type": "markdown",
      "source": [
        "# Problems 5 (Recusrion)\n",
        "\n",
        "----"
      ],
      "metadata": {
        "id": "rM8MhcrjS_yF"
      }
    },
    {
      "cell_type": "markdown",
      "metadata": {
        "id": "mhuZ8nWE5KG3"
      },
      "source": [
        "## 1. Understanding & Breakdown\n",
        "\n",
        "**AI Level 1** is allowed to understand the concept, but you need to sketch the problem down by yourself (Refer to the Syllabus for more details about AI use levels). **Must Provide AI Disclosures**\n",
        "\n",
        "\n",
        "### **Follow the below instruction according to the corresponding problem type**\n",
        "\n",
        "### **For both Parts (Both DSA & Recursion problems)**\n",
        "\n",
        "#### _Discuss the problem, using the pillars of Computation: Problem Decomposition, Pattern Recognition, Abstraction, and Algortihmic Thinking. For algorithmic thinking explain the inputs/outputs, constraints, and  draw the flowchart using digital or real pen-paper (For the flow chart only). Insert the image below._\n",
        "\n",
        "\n",
        "### **For Part 1 (Basic Data Structures and Algorithms Problems)**\n",
        "\n",
        "- For each, discuss:\n",
        "    - How are you dealing with variable datatypes?\n",
        "    - Which types of operations are being used and what for?\n",
        "    - Which Data collections (structures) are being used, and why? (comapre to others, e.g. lists, dictionaries, sets, tuples, etc.)\n",
        "    \n",
        "- Compare to the other two problems: which ideas generalize? where do they differ?\n",
        "    - Use abstraction and pattern recognition to find similarities\n",
        "    - Use problem decomposition and algortihmic tinking to identify differnces in term so the the solution\n",
        "\n",
        "\n",
        "### **For Part 2 (Recursion Problems)**\n",
        "\n",
        "- For each, discuss:\n",
        "    - What are the subproblems the recusrive function should solve?\n",
        "    - What the base case and recursive step should do?\n",
        "    - How the call stack will organize the recursive calls?\n",
        "    - Whether to use head, tail, parameterized, and/or functional recursion, and why?\n",
        "    - How are solutions to the subproblems to be combined?\n",
        "    \n",
        "- Compare to the other recursive problems  (similarities/differences)\n",
        "- Compare to an iterative solutions (e.g., how would a loop-based version differ?)\n",
        "- What needs to be changed for the recursive solution to become head/tail/parameterized/functional recursion\n",
        "\n",
        "\n",
        "\n",
        "\n",
        "\n",
        "**Your effort is more important than the accuracy for this section**\n",
        "\n",
        "Use the following markdown to provide your answer\n",
        "\n",
        "The problem is basically asking to flip a number using a 32 bit environment. So we need to need to always get the absolute value of x, have a variable to store the number, reverse individual digits while adding it to the reversed number, and make sure to keep it in the 32 bit."
      ]
    },
    {
      "cell_type": "markdown",
      "metadata": {
        "id": "k96prn1c8bAk"
      },
      "source": [
        "## 2. Peer Review & Draft Code\n",
        "\n",
        "**Review Guidance:**  \n",
        "\n",
        "Visit the **\"Solutions\"** tab on LeetCode (the provided link above) for the selected problem and review at least one top-rated solution. You may also search for relevant discussions or Q&A threads on **Stack Overflow** or other forums to understand how others approached the problem.\n",
        "\n",
        "Then, write your own version based on what you understood. The goal is not to copy but to apply what you learned. Always include links to the resources you reviewed.\n",
        "\n",
        "---\n",
        "\n",
        "https://leetcode.com/problems/reverse-integer/solutions/5428589/video-using-remainder/\n",
        "After looking at the solution I found a better way to solve this problem. I learned that we could just take both ends and just swap the places of each other and do the same thing till it reaches the centre."
      ]
    },
    {
      "cell_type": "code",
      "execution_count": null,
      "metadata": {
        "id": "8u3kX2gZ9z11"
      },
      "outputs": [],
      "source": [
        "def reverse(self, x):\n",
        "  s = str(x)\n",
        "  if s[0] == '-':\n",
        "  rev = '-' + s[:0:-1]\n",
        "  else:\n",
        "    rev = s[::-1]\n",
        "    num = int(rev)\n",
        "  if -2**31 <= num <= 2**31 - 1:\n",
        "      return num\n",
        "  return 0"
      ]
    },
    {
      "cell_type": "markdown",
      "metadata": {
        "id": "MV24GVXB_A83"
      },
      "source": [
        "## 3. Final Correct Code\n",
        "\n",
        "_This version must pass all required test cases and handle edge cases correctly. Please provide screenshots from Leetcode_\n",
        "\n",
        "At this stage, you may:\n",
        "- Review solutions using AI tools (e.g., ChatGPT, GitHub Copilot) to add ***comments*** and error handeling, refine, improve, and if there are any, fix errors.\n",
        "    -   Tip: Use PROMPT and CoT methods\n",
        "- Refactor your draft to ensure accuracy, completeness, follow the Code Review checklist.\n",
        "\n",
        "### Don't forget to add comments!\n",
        "\n",
        " **AI Level 4 is allowed**, but you **must include a disclaimer** that clearly states what tools you used, how you used them, and for which part of the code.\n",
        "\n",
        "--------------"
      ]
    },
    {
      "cell_type": "code",
      "execution_count": null,
      "metadata": {
        "id": "UK9dvvfGAAKp"
      },
      "outputs": [],
      "source": [
        "def reverse(self, x: int) -> int:\n",
        "  # Convert the integer to a string for easy reversal\n",
        "  s = str(x)\n",
        "\n",
        "  # If the number is negative\n",
        "  if s[0] == '-':\n",
        "    # Reverse the digits after the '-' sign\n",
        "    rev = '-' + s[:0:-1]   # s[:0:-1] reverses everything except the first character\n",
        "  else:\n",
        "    # Reverse the whole string for positive numbers\n",
        "    rev = s[::-1]\n",
        "\n",
        "  # Convert the reversed string back to an integer\n",
        "  num = int(rev)\n",
        "\n",
        "    # Check for 32-bit signed integer overflow\n",
        "  if -2**31 <= num <= 2**31 - 1:\n",
        "      return num\n",
        "\n",
        "  # Return 0 if the reversed number overflows\n",
        "  return 0"
      ]
    },
    {
      "cell_type": "markdown",
      "source": [
        "![image.png](data:image/png;base64,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)\n",
        "![image.png](data:image/png;base64,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)\n",
        "![image.png](data:image/png;base64,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)\n",
        "------"
      ],
      "metadata": {
        "id": "fpLYWj50CMMp"
      }
    },
    {
      "cell_type": "markdown",
      "metadata": {
        "id": "WsR6Shu8A9yB"
      },
      "source": [
        "## 4. Review & Fixes\n",
        "\n",
        "_What did you improve, optimize from your draft? 2 fixes with your comments._\n",
        "\n",
        "If there is no imporvments possible, please describe how the final version meets all the Code Review Checklist items\n",
        "\n",
        "-------\n"
      ]
    },
    {
      "cell_type": "code",
      "execution_count": null,
      "metadata": {
        "id": "eTn9RKrYBAw0"
      },
      "outputs": [],
      "source": [
        "#Reatached negative sign manually\n",
        "def reverse(self, x: int) -> int:\n",
        "  # Convert the integer to a string for easy reversal\n",
        "  s = str(x)\n",
        "\n",
        "  # If the number is negative\n",
        "  if s[0] == '-':\n",
        "    # Reverse the digits after the '-' sign\n",
        "    rev = '-' + s[:0:-1]   # s[:0:-1] reverses everything except the first character\n",
        "  else:\n",
        "    # Reverse the whole string for positive numbers\n",
        "    rev = s[::-1]\n",
        "\n",
        "  # Convert the reversed string back to an integer\n",
        "  num = int(rev)\n",
        "\n",
        "    # Check for 32-bit signed integer overflow\n",
        "  if -2**31 <= num <= 2**31 - 1:\n",
        "      return num\n",
        "\n",
        "  # Return 0 if the reversed number overflows\n",
        "  return 0\n"
      ]
    },
    {
      "cell_type": "markdown",
      "metadata": {
        "id": "9okSOZrOCo-L"
      },
      "source": [
        "\n",
        "## 5. Reflection on Your Contribution\n",
        "_Where did AI or Other's code helped or fail to help? What specific logic or debugging did you contribute yourself?_\n",
        "\n",
        "## Example\n",
        "1. I used ChatGPT (Level 4) to help identify an edge case where my draft code failed when the input string started with a closing bracket. I also used ChatGPT to help structure the final loop and mapping dictionary, but verified all logic myself by tracing the code.\n",
        "\n",
        "2.  I used ChatGPT to help write the loop. But the code had an indentation error after the `if` block, which caused it to fail. I fixed the spacing and made sure the code runs correctly.\n",
        "\n",
        "3. I used opensource code from Github. I found and fixed a logic bug where they used if s[i] == '(' or ')', which always returned True. I corrected it to properly check both conditions.\n"
      ]
    },
    {
      "cell_type": "markdown",
      "source": [
        "---> I used chatgpt level 4 and used it to add comments and attach the negative sign in the code manually."
      ],
      "metadata": {
        "id": "huPf_Gy1Th3J"
      }
    },
    {
      "cell_type": "markdown",
      "source": [
        "------"
      ],
      "metadata": {
        "id": "Z2sT8zHjTivY"
      }
    },
    {
      "cell_type": "markdown",
      "metadata": {
        "id": "YR8usq_lVloZ"
      },
      "source": [
        "# **The most important part of writing code is not the code itself, but the thinking that leads to it. Thank You 😀**"
      ]
    }
  ],
  "metadata": {
    "colab": {
      "provenance": [],
      "include_colab_link": true
    },
    "kernelspec": {
      "display_name": "Python 3",
      "name": "python3"
    },
    "language_info": {
      "name": "python"
    },
    "title": "CISC 121 – Assignment 2"
  },
  "nbformat": 4,
  "nbformat_minor": 0
}